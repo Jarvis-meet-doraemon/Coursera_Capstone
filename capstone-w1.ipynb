#!/usr/bin/env python
# coding: utf-8

# hello, this is the capstone project - week 1 assignment

# In[2]:


import numpy as np
import pandas as pd
print("Hello Capstone Project Course!")


# In[ ]:




