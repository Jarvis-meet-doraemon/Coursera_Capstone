{
 "cells": [
  {
   "cell_type": "markdown",
   "metadata": {},
   "source": [
    "# Import Pandas and Data\n"
   ]
  },
  {
   "cell_type": "code",
   "execution_count": 49,
   "metadata": {},
   "outputs": [
    {
     "data": {
      "text/plain": [
       "['Postcode', 'Borough', 'Neighbourhood']"
      ]
     },
     "execution_count": 49,
     "metadata": {},
     "output_type": "execute_result"
    }
   ],
   "source": [
    "import pandas as pd\n",
    "\n",
    "filepath1 ='/resources/data/export_dataframe1.csv'\n",
    "filepath2 ='/resources/data/Geospatial_Coordinates.csv'\n",
    "data1 = pd.read_csv(filepath1)\n",
    "data2 = pd.read_csv(filepath2)\n"
   ]
  },
  {
   "cell_type": "markdown",
   "metadata": {},
   "source": [
    "# combine two dataframe"
   ]
  },
  {
   "cell_type": "code",
   "execution_count": 53,
   "metadata": {},
   "outputs": [],
   "source": [
    "data1_new = data2.filter([\"Latitude\", \"Longitude\"], axis=1)\n",
    "dfObj = pd.DataFrame()\n",
    "dfObj[\"Postcode\"] = data1[\"Postcode\"]\n",
    "dfObj[\"Borough\"] = data1[\"Borough\"]\n",
    "dfObj[\"Neighbourhood\"] = data1[\"Neighbourhood\"]\n",
    "dfObj[\"Latitude\"] = data2[\"Latitude\"]\n",
    "dfObj[\"Longitude\"] = data2[\"Longitude\"]\n",
    "dfObj\n"
   ]
  },
  {
   "cell_type": "markdown",
   "metadata": {},
   "source": [
    "# download data"
   ]
  },
  {
   "cell_type": "code",
   "execution_count": 55,
   "metadata": {},
   "outputs": [],
   "source": [
    "dfObj.to_csv('export_dataframe2.csv', index=False)"
   ]
  }
 ],
 "metadata": {
  "kernelspec": {
   "display_name": "Python 3",
   "language": "python",
   "name": "python3"
  },
  "language_info": {
   "codemirror_mode": {
    "name": "ipython",
    "version": 3
   },
   "file_extension": ".py",
   "mimetype": "text/x-python",
   "name": "python",
   "nbconvert_exporter": "python",
   "pygments_lexer": "ipython3",
   "version": "3.6.8"
  }
 },
 "nbformat": 4,
 "nbformat_minor": 2
}
